{
  "metadata": {
    "kernelspec": {
      "name": "python",
      "display_name": "Python (Pyodide)",
      "language": "python"
    },
    "language_info": {
      "codemirror_mode": {
        "name": "python",
        "version": 3
      },
      "file_extension": ".py",
      "mimetype": "text/x-python",
      "name": "python",
      "nbconvert_exporter": "python",
      "pygments_lexer": "ipython3",
      "version": "3.8"
    }
  },
  "nbformat_minor": 5,
  "nbformat": 4,
  "cells": [
    {
      "id": "d1f4ae11-58a1-4aba-ad2b-e96d11fb2323",
      "cell_type": "markdown",
      "source": "# Data Science Tools and Ecosystem",
      "metadata": {}
    },
    {
      "id": "7797a271-2e1b-46b8-9cf3-6df07770de9d",
      "cell_type": "markdown",
      "source": "### In this notebook, Data Science Tools and Ecosystem are summarized",
      "metadata": {}
    },
    {
      "id": "35d34f7e-6ea1-4f13-bd8b-5278b8558a87",
      "cell_type": "markdown",
      "source": "## Some of the popular languages that Data Scientists use are:",
      "metadata": {}
    },
    {
      "id": "1bd81e6a-57bf-4b8b-80bd-5e1cee379f80",
      "cell_type": "markdown",
      "source": "### order list",
      "metadata": {}
    },
    {
      "id": "c1a6d1e8-0bb8-484b-8839-3eba3e02204d",
      "cell_type": "markdown",
      "source": "1) PYTHON\n2)R\n3)java\n4)julia\n5)scala\n6)SQL",
      "metadata": {}
    },
    {
      "id": "839da7bc-6648-4fb1-a3fd-722e58f14e48",
      "cell_type": "markdown",
      "source": "## Some of the commonly used libraries used by Data Scientists include:",
      "metadata": {}
    },
    {
      "id": "d12808a6-8345-44a2-b1d3-9a642202f705",
      "cell_type": "markdown",
      "source": "### order list",
      "metadata": {}
    },
    {
      "id": "1e47bc97-d6b7-40c0-9afc-69ca9cab14c7",
      "cell_type": "code",
      "source": "1)NUMPY \n2)PANDAS\n3)SCIPY\n4)MATPLOTIB \n5)SEABORN\n\n",
      "metadata": {
        "trusted": true
      },
      "outputs": [],
      "execution_count": null
    },
    {
      "id": "6c16885a-d2f8-4094-92f4-98bb53b5a702",
      "cell_type": "markdown",
      "source": "## Data Science Tools",
      "metadata": {}
    },
    {
      "id": "4943aa6b-0176-4ba5-90a4-e417aaa21d79",
      "cell_type": "markdown",
      "source": "1)Jupyter notebook",
      "metadata": {}
    },
    {
      "id": "01423ad6-b41b-48e1-b85d-2e979220c9f7",
      "cell_type": "markdown",
      "source": "2)Rstudio",
      "metadata": {}
    },
    {
      "id": "c37a4979-54ce-47e2-8dcf-b32f29babf06",
      "cell_type": "markdown",
      "source": "3)Apache Zeppelin ",
      "metadata": {}
    },
    {
      "id": "a71ce963-8af2-45e3-bbad-37893eda0576",
      "cell_type": "markdown",
      "source": "## Below are a few examples of evaluating arithmetic expressions in Python",
      "metadata": {}
    },
    {
      "id": "33423df7-61d8-44a9-8c83-6cb5ed5a08a6",
      "cell_type": "markdown",
      "source": "1)addition\n2)subtraction\n3)multiplication\n4)division\n5)floor division\n6)modulus\n7)exponentiation",
      "metadata": {}
    },
    {
      "id": "6bef2d8d-da00-47c9-8626-61e603e3bb3d",
      "cell_type": "code",
      "source": "# This a simple arithmetic expression to mutiply then add integers\n(3*4)+5",
      "metadata": {
        "trusted": true
      },
      "outputs": [
        {
          "execution_count": 1,
          "output_type": "execute_result",
          "data": {
            "text/plain": "17"
          },
          "metadata": {}
        }
      ],
      "execution_count": 1
    },
    {
      "id": "c0890f2e-4e12-4075-91dc-70aa486d64c3",
      "cell_type": "code",
      "source": " # This will convert 200 minutes to hours by diving by 60\ntotal_minutes=200\nhours= total_minutes // 60\nminutes=total_minutes % 60\nprint(f\"{total_minutes} is equal to {hours} hours and {minutes} minutes.\")",
      "metadata": {
        "trusted": true
      },
      "outputs": [
        {
          "name": "stdout",
          "output_type": "stream",
          "text": "200 is equal to 3 hours and 20 minutes.\n"
        }
      ],
      "execution_count": 2
    },
    {
      "id": "d58e6d32-f988-487e-a99e-52c8eea1c5f1",
      "cell_type": "markdown",
      "source": " ## List popular languages for Data Science",
      "metadata": {}
    },
    {
      "id": "75dc9c78-5c8d-4056-b681-f31233562d97",
      "cell_type": "markdown",
      "source": "### Objectives:",
      "metadata": {}
    },
    {
      "id": "b1d91774-29ab-46f6-9b11-c23ce4a2ed29",
      "cell_type": "markdown",
      "source": "\n   * python -user friendly programming language for data anlaysis ,ML,visualization\n   * sql    -its efficiently query,manipulate,structured data in relational database\n   * scala  -its  to enble scalable big data processing \n   * R      -its statistical computing ,data visualization\n   * julia  -to offer  high erformance computing  for numerica\n\n",
      "metadata": {}
    },
    {
      "id": "9097d251-872f-41fb-9b0b-470c69f5b737",
      "cell_type": "markdown",
      "source": "## Author",
      "metadata": {}
    },
    {
      "id": "7f5490cd-d3cb-4a99-aed3-b6dadfb08d7d",
      "cell_type": "markdown",
      "source": " SIVARANJANI",
      "metadata": {}
    }
  ]
}